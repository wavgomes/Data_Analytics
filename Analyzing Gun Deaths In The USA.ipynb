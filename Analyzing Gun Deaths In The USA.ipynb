{
 "cells": [
  {
   "cell_type": "code",
   "execution_count": 3,
   "metadata": {
    "collapsed": false
   },
   "outputs": [],
   "source": [
    "import csv\n",
    "\n",
    "with open ('guns.csv', 'r') as f:\n",
    "    r = csv.reader(f)\n",
    "    data = list(r)\n",
    "    \n",
    "    #print(data[:5])\n",
    "    \n",
    "    headers = data[:1]\n",
    "    data = data[1:]\n",
    "    \n",
    "    #print(headers)\n",
    "    #print(data[:5])\n",
    "    "
   ]
  },
  {
   "cell_type": "code",
   "execution_count": 4,
   "metadata": {
    "collapsed": false
   },
   "outputs": [
    {
     "data": {
      "text/plain": [
       "{'2012': 33563, '2013': 33636, '2014': 33599}"
      ]
     },
     "execution_count": 4,
     "metadata": {},
     "output_type": "execute_result"
    }
   ],
   "source": [
    "years = [row[1] for row in data]\n",
    "\n",
    "year_counts = {}\n",
    "\n",
    "for year in years:\n",
    "    if year not in year_counts:\n",
    "        year_counts[year] = 1\n",
    "    else:\n",
    "        year_counts[year] += 1\n",
    "        \n",
    "year_counts"
   ]
  },
  {
   "cell_type": "code",
   "execution_count": 5,
   "metadata": {
    "collapsed": false
   },
   "outputs": [
    {
     "data": {
      "text/plain": [
       "[datetime.datetime(2012, 1, 1, 0, 0),\n",
       " datetime.datetime(2012, 1, 1, 0, 0),\n",
       " datetime.datetime(2012, 1, 1, 0, 0),\n",
       " datetime.datetime(2012, 2, 1, 0, 0),\n",
       " datetime.datetime(2012, 2, 1, 0, 0)]"
      ]
     },
     "execution_count": 5,
     "metadata": {},
     "output_type": "execute_result"
    }
   ],
   "source": [
    "import datetime\n",
    "\n",
    "dates = [datetime.datetime(year = int(row[1]), month = int(row[2]), day = 1) for row in data]\n",
    "dates[:5]"
   ]
  },
  {
   "cell_type": "code",
   "execution_count": 13,
   "metadata": {
    "collapsed": false
   },
   "outputs": [
    {
     "data": {
      "text/plain": [
       "{datetime.datetime(2012, 1, 1, 0, 0): 2758,\n",
       " datetime.datetime(2012, 2, 1, 0, 0): 2357,\n",
       " datetime.datetime(2012, 3, 1, 0, 0): 2743,\n",
       " datetime.datetime(2012, 4, 1, 0, 0): 2795,\n",
       " datetime.datetime(2012, 5, 1, 0, 0): 2999,\n",
       " datetime.datetime(2012, 6, 1, 0, 0): 2826,\n",
       " datetime.datetime(2012, 7, 1, 0, 0): 3026,\n",
       " datetime.datetime(2012, 8, 1, 0, 0): 2954,\n",
       " datetime.datetime(2012, 9, 1, 0, 0): 2852,\n",
       " datetime.datetime(2012, 10, 1, 0, 0): 2733,\n",
       " datetime.datetime(2012, 11, 1, 0, 0): 2729,\n",
       " datetime.datetime(2012, 12, 1, 0, 0): 2791,\n",
       " datetime.datetime(2013, 1, 1, 0, 0): 2864,\n",
       " datetime.datetime(2013, 2, 1, 0, 0): 2375,\n",
       " datetime.datetime(2013, 3, 1, 0, 0): 2862,\n",
       " datetime.datetime(2013, 4, 1, 0, 0): 2798,\n",
       " datetime.datetime(2013, 5, 1, 0, 0): 2806,\n",
       " datetime.datetime(2013, 6, 1, 0, 0): 2920,\n",
       " datetime.datetime(2013, 7, 1, 0, 0): 3079,\n",
       " datetime.datetime(2013, 8, 1, 0, 0): 2859,\n",
       " datetime.datetime(2013, 9, 1, 0, 0): 2742,\n",
       " datetime.datetime(2013, 10, 1, 0, 0): 2808,\n",
       " datetime.datetime(2013, 11, 1, 0, 0): 2758,\n",
       " datetime.datetime(2013, 12, 1, 0, 0): 2765,\n",
       " datetime.datetime(2014, 1, 1, 0, 0): 2651,\n",
       " datetime.datetime(2014, 2, 1, 0, 0): 2361,\n",
       " datetime.datetime(2014, 3, 1, 0, 0): 2684,\n",
       " datetime.datetime(2014, 4, 1, 0, 0): 2862,\n",
       " datetime.datetime(2014, 5, 1, 0, 0): 2864,\n",
       " datetime.datetime(2014, 6, 1, 0, 0): 2931,\n",
       " datetime.datetime(2014, 7, 1, 0, 0): 2884,\n",
       " datetime.datetime(2014, 8, 1, 0, 0): 2970,\n",
       " datetime.datetime(2014, 9, 1, 0, 0): 2914,\n",
       " datetime.datetime(2014, 10, 1, 0, 0): 2865,\n",
       " datetime.datetime(2014, 11, 1, 0, 0): 2756,\n",
       " datetime.datetime(2014, 12, 1, 0, 0): 2857}"
      ]
     },
     "execution_count": 13,
     "metadata": {},
     "output_type": "execute_result"
    }
   ],
   "source": [
    "date_counts = {}\n",
    "\n",
    "for date in dates:\n",
    "    if date not in date_counts:\n",
    "        date_counts[date] = 1\n",
    "    else:\n",
    "        date_counts[date] += 1\n",
    "        \n",
    "date_counts"
   ]
  },
  {
   "cell_type": "code",
   "execution_count": 6,
   "metadata": {
    "collapsed": false
   },
   "outputs": [
    {
     "data": {
      "text/plain": [
       "{'F': 14449, 'M': 86349}"
      ]
     },
     "execution_count": 6,
     "metadata": {},
     "output_type": "execute_result"
    }
   ],
   "source": [
    "sex_counts = {}\n",
    "race_counts = {}\n",
    "\n",
    "sexes = [row[5] for row in data]\n",
    "races = [row[7] for row in data]\n",
    "\n",
    "for sex in sexes:\n",
    "    if sex not in sex_counts:\n",
    "        sex_counts[sex] = 1\n",
    "    else:\n",
    "        sex_counts[sex] += 1\n",
    "\n",
    "    \n",
    "sex_counts"
   ]
  },
  {
   "cell_type": "code",
   "execution_count": 7,
   "metadata": {
    "collapsed": false
   },
   "outputs": [
    {
     "data": {
      "text/plain": [
       "{'Asian/Pacific Islander': 1326,\n",
       " 'Black': 23296,\n",
       " 'Hispanic': 9022,\n",
       " 'Native American/Native Alaskan': 917,\n",
       " 'White': 66237}"
      ]
     },
     "execution_count": 7,
     "metadata": {},
     "output_type": "execute_result"
    }
   ],
   "source": [
    "for race in races:\n",
    "    if race not in race_counts:\n",
    "        race_counts[race] = 1\n",
    "    else:\n",
    "        race_counts[race] += 1\n",
    "\n",
    "\n",
    "race_counts"
   ]
  },
  {
   "cell_type": "markdown",
   "metadata": {},
   "source": [
    "1 - Open and reading csv file\n",
    "\n",
    "2 - Count how many deaths by year\n",
    "\n",
    "3 - Count how many deaths by year and month\n",
    "\n",
    "4 - Count how many deaths by sex\n",
    "\n",
    "5 - Count how many deaths by race\n",
    "\n",
    "We can count how many deaths were by Intent, Age and Police"
   ]
  },
  {
   "cell_type": "code",
   "execution_count": 8,
   "metadata": {
    "collapsed": false
   },
   "outputs": [
    {
     "data": {
      "text/plain": [
       "{'0': 33,\n",
       " '1': 38,\n",
       " '10': 53,\n",
       " '100': 1,\n",
       " '101': 2,\n",
       " '102': 2,\n",
       " '107': 1,\n",
       " '11': 61,\n",
       " '12': 117,\n",
       " '13': 229,\n",
       " '14': 364,\n",
       " '15': 561,\n",
       " '16': 864,\n",
       " '17': 1185,\n",
       " '18': 1753,\n",
       " '19': 2065,\n",
       " '2': 50,\n",
       " '20': 2219,\n",
       " '21': 2504,\n",
       " '22': 2712,\n",
       " '23': 2472,\n",
       " '24': 2437,\n",
       " '25': 2230,\n",
       " '26': 2231,\n",
       " '27': 2070,\n",
       " '28': 1986,\n",
       " '29': 1955,\n",
       " '3': 66,\n",
       " '30': 1869,\n",
       " '31': 1833,\n",
       " '32': 1824,\n",
       " '33': 1700,\n",
       " '34': 1699,\n",
       " '35': 1631,\n",
       " '36': 1512,\n",
       " '37': 1500,\n",
       " '38': 1491,\n",
       " '39': 1389,\n",
       " '4': 54,\n",
       " '40': 1414,\n",
       " '41': 1485,\n",
       " '42': 1492,\n",
       " '43': 1527,\n",
       " '44': 1449,\n",
       " '45': 1372,\n",
       " '46': 1437,\n",
       " '47': 1532,\n",
       " '48': 1621,\n",
       " '49': 1669,\n",
       " '5': 43,\n",
       " '50': 1674,\n",
       " '51': 1755,\n",
       " '52': 1715,\n",
       " '53': 1708,\n",
       " '54': 1684,\n",
       " '55': 1596,\n",
       " '56': 1625,\n",
       " '57': 1472,\n",
       " '58': 1510,\n",
       " '59': 1430,\n",
       " '6': 50,\n",
       " '60': 1361,\n",
       " '61': 1306,\n",
       " '62': 1099,\n",
       " '63': 1041,\n",
       " '64': 1126,\n",
       " '65': 1039,\n",
       " '66': 998,\n",
       " '67': 865,\n",
       " '68': 868,\n",
       " '69': 879,\n",
       " '7': 43,\n",
       " '70': 883,\n",
       " '71': 791,\n",
       " '72': 736,\n",
       " '73': 737,\n",
       " '74': 671,\n",
       " '75': 676,\n",
       " '76': 582,\n",
       " '77': 575,\n",
       " '78': 598,\n",
       " '79': 573,\n",
       " '8': 32,\n",
       " '80': 546,\n",
       " '81': 563,\n",
       " '82': 520,\n",
       " '83': 552,\n",
       " '84': 490,\n",
       " '85': 440,\n",
       " '86': 407,\n",
       " '87': 312,\n",
       " '88': 340,\n",
       " '89': 245,\n",
       " '9': 47,\n",
       " '90': 208,\n",
       " '91': 176,\n",
       " '92': 128,\n",
       " '93': 103,\n",
       " '94': 64,\n",
       " '95': 55,\n",
       " '96': 40,\n",
       " '97': 20,\n",
       " '98': 16,\n",
       " '99': 6,\n",
       " 'NA': 18}"
      ]
     },
     "execution_count": 8,
     "metadata": {},
     "output_type": "execute_result"
    }
   ],
   "source": [
    "age_counts = {}\n",
    "\n",
    "ages = [row[6] for row in data]\n",
    "\n",
    "for age in ages:\n",
    "    if age not in age_counts:\n",
    "        age_counts[age] = 1\n",
    "    else:\n",
    "        age_counts[age] += 1\n",
    "\n",
    "age_counts"
   ]
  },
  {
   "cell_type": "code",
   "execution_count": 9,
   "metadata": {
    "collapsed": false
   },
   "outputs": [
    {
     "data": {
      "text/plain": [
       "{'Accidental': 1639,\n",
       " 'Homicide': 35176,\n",
       " 'NA': 1,\n",
       " 'Suicide': 63175,\n",
       " 'Undetermined': 807}"
      ]
     },
     "execution_count": 9,
     "metadata": {},
     "output_type": "execute_result"
    }
   ],
   "source": [
    "intent_counts = {}\n",
    "\n",
    "intents = [row[3] for row in data]\n",
    "\n",
    "for intent in intents:\n",
    "    if intent not in intent_counts:\n",
    "        intent_counts[intent] = 1\n",
    "    else:\n",
    "        intent_counts[intent] += 1\n",
    "intent_counts"
   ]
  },
  {
   "cell_type": "code",
   "execution_count": 10,
   "metadata": {
    "collapsed": false
   },
   "outputs": [
    {
     "data": {
      "text/plain": [
       "{'0': 99396, '1': 1402}"
      ]
     },
     "execution_count": 10,
     "metadata": {},
     "output_type": "execute_result"
    }
   ],
   "source": [
    "police_counts = {}\n",
    "\n",
    "polices = [row[4] for row in data]\n",
    "\n",
    "for police in polices:\n",
    "    if police not in police_counts:\n",
    "        police_counts[police] = 1\n",
    "    else:\n",
    "        police_counts[police] += 1\n",
    "police_counts"
   ]
  },
  {
   "cell_type": "code",
   "execution_count": 11,
   "metadata": {
    "collapsed": false
   },
   "outputs": [
    {
     "data": {
      "text/plain": [
       "[['cen42010',\n",
       "  'April 1, 2010 Census',\n",
       "  'totsex',\n",
       "  'Both Sexes',\n",
       "  'tothisp',\n",
       "  'Total',\n",
       "  '0100000US',\n",
       "  '',\n",
       "  'United States',\n",
       "  '308745538',\n",
       "  '197318956',\n",
       "  '44618105',\n",
       "  '40250635',\n",
       "  '3739506',\n",
       "  '15159516',\n",
       "  '674625',\n",
       "  '6984195']]"
      ]
     },
     "execution_count": 11,
     "metadata": {},
     "output_type": "execute_result"
    }
   ],
   "source": [
    "import csv\n",
    "\n",
    "with open ('census.csv', 'r') as f:\n",
    "    r = csv.reader(f)\n",
    "    census = list(r)\n",
    "    \n",
    "    headers_census = census[:1]\n",
    "    census = census[1:]\n",
    "\n",
    "census\n"
   ]
  },
  {
   "cell_type": "code",
   "execution_count": 13,
   "metadata": {
    "collapsed": false
   },
   "outputs": [
    {
     "data": {
      "text/plain": [
       "{'Asian/Pacific Islander': 8.374309664161762,\n",
       " 'Black': 57.8773477735196,\n",
       " 'Hispanic': 20.220491210910907,\n",
       " 'Native American/Native Alaskan': 24.521955573811088,\n",
       " 'White': 33.56849303419181}"
      ]
     },
     "execution_count": 13,
     "metadata": {},
     "output_type": "execute_result"
    }
   ],
   "source": [
    "mapping = {\n",
    "    \"Asian/Pacific Islander\": 15159516 + 674625,\n",
    "    \"Black\": 40250635,\n",
    "    \"Hispanic\": 44618105,\n",
    "    \"Native American/Native Alaskan\": 3739506,\n",
    "    \"White\": 197318956\n",
    "}\n",
    "\n",
    "race_per_hundredk = {}\n",
    "\n",
    "for key, value in race_counts.items():\n",
    "    race_per_hundredk[key] = (value/mapping[key]) * 100000\n",
    "\n",
    "race_per_hundredk"
   ]
  },
  {
   "cell_type": "code",
   "execution_count": 15,
   "metadata": {
    "collapsed": false
   },
   "outputs": [
    {
     "data": {
      "text/plain": [
       "{'Asian/Pacific Islander': 3.530346230970155,\n",
       " 'Black': 48.471284987180944,\n",
       " 'Hispanic': 12.627161104219914,\n",
       " 'Native American/Native Alaskan': 8.717729026240365,\n",
       " 'White': 4.6356417981453335}"
      ]
     },
     "execution_count": 15,
     "metadata": {},
     "output_type": "execute_result"
    }
   ],
   "source": [
    "intents = [row[3] for row in data] \n",
    "\n",
    "races = [row[7] for row in data]\n",
    "\n",
    "homicide_race_counts = {}\n",
    "\n",
    "for i,race in enumerate(races):\n",
    "    if race not in homicide_race_counts:\n",
    "        homicide_race_counts[race]=0\n",
    "    if intents[i]==\"Homicide\":\n",
    "        homicide_race_counts[race] +=1\n",
    "        \n",
    "race_per_hundredk = {}\n",
    "for key, value in homicide_race_counts.items():\n",
    "    race_per_hundredk[key] = (value/mapping[key]) * 100000\n",
    "\n",
    "race_per_hundredk"
   ]
  },
  {
   "cell_type": "code",
   "execution_count": null,
   "metadata": {
    "collapsed": true
   },
   "outputs": [],
   "source": []
  }
 ],
 "metadata": {
  "kernelspec": {
   "display_name": "Python 3",
   "language": "python",
   "name": "python3"
  },
  "language_info": {
   "codemirror_mode": {
    "name": "ipython",
    "version": 3
   },
   "file_extension": ".py",
   "mimetype": "text/x-python",
   "name": "python",
   "nbconvert_exporter": "python",
   "pygments_lexer": "ipython3",
   "version": "3.4.3"
  }
 },
 "nbformat": 4,
 "nbformat_minor": 0
}
